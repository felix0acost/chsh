{
 "cells": [
  {
   "cell_type": "markdown",
   "id": "23b58ee0",
   "metadata": {},
   "source": [
    "# CHSH Quantum game"
   ]
  },
  {
   "cell_type": "markdown",
   "id": "93a4fe98",
   "metadata": {},
   "source": [
    "In order to run this program in local you must have the environment configured"
   ]
  },
  {
   "cell_type": "markdown",
   "id": "c2b061c2",
   "metadata": {},
   "source": [
    "Importing libraries"
   ]
  },
  {
   "cell_type": "code",
   "execution_count": 1,
   "id": "01b9be5f",
   "metadata": {},
   "outputs": [],
   "source": [
    "\n",
    "# Utility libraries\n",
    "import random\n",
    "import csv\n",
    "import os\n",
    "from math import pi as π\n",
    "from tkinter import Tk, filedialog\n",
    "from datetime import datetime\n",
    "\n",
    "# Libraries to the quantum computing framework\n",
    "from qiskit.circuit import Parameter\n",
    "from qiskit_ibm_runtime import QiskitRuntimeService, SamplerV2\n",
    "from qiskit import QuantumCircuit, transpile\n"
   ]
  },
  {
   "cell_type": "markdown",
   "id": "e00b8447",
   "metadata": {},
   "source": [
    "Add your quantum IBM token to run jobs"
   ]
  },
  {
   "cell_type": "code",
   "execution_count": 2,
   "id": "8f92fe8e",
   "metadata": {},
   "outputs": [],
   "source": [
    "Service = QiskitRuntimeService(channel=\"ibm_quantum\",token=\"57c7ea0543f8efa5bbe36ea031aa9ac59cd1d12c7d025a73c1980193de8b6b6d55ab8dc0e063ab2ebc77ad4a1f608493591830225665f15648ad7ebc309b2d1a\")"
   ]
  },
  {
   "cell_type": "markdown",
   "id": "d8f4163f",
   "metadata": {},
   "source": [
    "Backends"
   ]
  },
  {
   "cell_type": "code",
   "execution_count": 3,
   "id": "68903d68",
   "metadata": {},
   "outputs": [],
   "source": [
    "# Backends\n",
    "backend_osk = Service.least_busy(simulator=False, operational=True) # IBM Quantum backend\n",
    "sampler_osk = SamplerV2(backend_osk) # Simulator backend"
   ]
  },
  {
   "cell_type": "markdown",
   "id": "15a94e82",
   "metadata": {},
   "source": [
    "Esta parte crea el esquema general del circuito, ya que no cambia mucho su estructura entre medidas, solo los angulos en la compuerta Ry"
   ]
  },
  {
   "cell_type": "code",
   "execution_count": 4,
   "id": "7095014e",
   "metadata": {},
   "outputs": [
    {
     "data": {
      "image/png": "[encoded data removed]",
      "text/plain": [
       "<Figure size 621.739x284.278 with 1 Axes>"
      ]
     },
     "execution_count": 4,
     "metadata": {},
     "output_type": "execute_result"
    }
   ],
   "source": [
    "# Parameters of the quantum circuit\n",
    "θ=Parameter('θ')\n",
    "φ=Parameter('φ')\n",
    "\n",
    "qc1 = QuantumCircuit(2, 2)\n",
    "qc1.h(0)\n",
    "qc1.cx(0, 1)\n",
    "qc1.barrier()\n",
    "\n",
    "qc1.ry(θ, 0)\n",
    "qc1.ry(φ, 1)\n",
    "\n",
    "qc1.measure(0, 0)\n",
    "qc1.measure(1, 1)\n",
    "\n",
    "qcCompiled = transpile(qc1, backend=backend_osk)\n",
    "qc1.draw('mpl')"
   ]
  },
  {
   "cell_type": "markdown",
   "id": "90e6bb4a",
   "metadata": {},
   "source": [
    "Aqui obtenemos los valores de entrada aleatoria X y Y, ademas de los angulos necesarios para cada una de los circuitos"
   ]
  },
  {
   "cell_type": "code",
   "execution_count": 5,
   "id": "0871a0a8",
   "metadata": {},
   "outputs": [],
   "source": [
    "quantum_circuits = []\n",
    "for _ in range(1000):\n",
    "  X,Y = random.randint(0,1), random.randint(0,1)\n",
    "\n",
    "  qc1 = QuantumCircuit(2, 2)\n",
    "\n",
    "  qc1.h(0)\n",
    "  qc1.cx(0, 1)\n",
    "  qc1.barrier()\n",
    "\n",
    "  # Alice's action\n",
    "  if X == 0:\n",
    "    θ1=0\n",
    "  else:\n",
    "    θ1=-π / 2\n",
    "    \n",
    "  # Bob's action\n",
    "  if Y == 0:\n",
    "    φ1=-π / 4\n",
    "  else:\n",
    "    φ1=π / 4\n",
    "  quantum_circuits.append([X,Y,θ1,φ1])"
   ]
  },
  {
   "cell_type": "markdown",
   "id": "a093e607",
   "metadata": {},
   "source": [
    "En esta parte se crea una lista asignando los valores de los angulos a el circuito cuantico"
   ]
  },
  {
   "cell_type": "code",
   "execution_count": 6,
   "id": "7d753e74",
   "metadata": {},
   "outputs": [],
   "source": [
    "Crc = []\n",
    "angles = [[row[2],row[3]] for row in quantum_circuits]\n",
    "for i in range(1000):\n",
    "    Crc.append((qcCompiled, angles[i], 1))"
   ]
  },
  {
   "cell_type": "markdown",
   "id": "a16b0614",
   "metadata": {},
   "source": [
    "Mandamos el trabajo a un computador cuantico, ademas creamos un archivo csv para guardar los datos de los X, Y, los angulos y la fecha en que fue hecho el trabajo"
   ]
  },
  {
   "cell_type": "code",
   "execution_count": 7,
   "id": "d359eff8",
   "metadata": {},
   "outputs": [
    {
     "name": "stdout",
     "output_type": "stream",
     "text": [
      ">>> Job ID: d0thqmevx7bg0081ckv0\n"
     ]
    }
   ],
   "source": [
    "job_osk = sampler_osk.run(Crc)\n",
    "# Use the job ID to retrieve your job data later\n",
    "print(f\">>> Job ID: {job_osk.job_id()}\")\n",
    "f_h = datetime.now().strftime(\"%Y_%m_%d_%H_%M_%S\")\n",
    "\n",
    "file_name = f\"{job_osk.job_id()}.csv\"\n",
    "\n",
    "# Save X Y θ φ\n",
    "with open(file_name, mode=\"w\", newline=\"\") as file:\n",
    "    writer = csv.writer(file)\n",
    "    writer.writerow([\"index\",\"X\", \"Y\",\"θ\",\"φ\",\"Date and time\"])  # headers\n",
    "    for i,(x, y, θ, φ) in enumerate(quantum_circuits):\n",
    "        writer.writerow([i, x, y, θ, φ, f_h])"
   ]
  },
  {
   "cell_type": "markdown",
   "id": "48daa076",
   "metadata": {},
   "source": [
    "Este codigo solo lo usamos para leer los archivos csv, ademas extrae del nombre el id del trabajo para poder acceder al mismo\n",
    "\n",
    "Si se hace en coolab de google hay que buscar otra forma de abrir los archivos\n",
    "\n",
    "Preferible trabajarlo en un entorno local con todas las extensiones necesarias"
   ]
  },
  {
   "cell_type": "code",
   "execution_count": 5,
   "id": "8a4b65b6",
   "metadata": {},
   "outputs": [
    {
     "name": "stdout",
     "output_type": "stream",
     "text": [
      ">>> Job ID: d0thqmevx7bg0081ckv0\n"
     ]
    }
   ],
   "source": [
    "# Open a file dialog to select the CSV file\n",
    "root = Tk()\n",
    "root.withdraw()  # Hide the root window\n",
    "root.attributes(\"-topmost\", True)\n",
    "file_name = filedialog.askopenfilename(filetypes=[(\"CSV Files\", \"*.csv\")])\n",
    "\n",
    "# Extract the job ID from the file name\n",
    "job_id = os.path.splitext(os.path.basename(file_name))[0]\n",
    "\n",
    "# Read the CSV file and extract the data\n",
    "Val = []\n",
    "with open(file_name, newline=\"\") as file:\n",
    "    reader = csv.DictReader(file)\n",
    "    \n",
    "    for row in reader:\n",
    "        x = int(row[\"X\"])\n",
    "        y = int(row[\"Y\"])\n",
    "        θ2 = float(row[\"θ\"]) \n",
    "        φ2 = float(row[\"φ\"])\n",
    "        f_h = row[\"Date and time\"]\n",
    "        Val.append((x, y, θ2, φ2,f_h))\n",
    "job_osk = Service.job(job_id)\n",
    "f_h=Val[0][4]\n",
    "print(f\">>> Job ID: {job_id}\")"
   ]
  },
  {
   "cell_type": "markdown",
   "id": "28d244b3",
   "metadata": {},
   "source": [
    "Esta parte Extrae los valores de respuesta de Alice y Bob y evalua la condicion para ganar el juego"
   ]
  },
  {
   "cell_type": "code",
   "execution_count": 6,
   "id": "e98a2f17",
   "metadata": {},
   "outputs": [
    {
     "name": "stdout",
     "output_type": "stream",
     "text": [
      "Won games percentage 45.5\n",
      "Work made on 2025_05_26_20_56_38\n"
     ]
    }
   ],
   "source": [
    "result_osk=job_osk.result()\n",
    "\n",
    "Points = 0\n",
    "\n",
    "for i in range(1000):\n",
    "  counts_qc1_osk = result_osk[i].data.c.get_counts()\n",
    "  bits = list(counts_qc1_osk.keys())[0]\n",
    "  A, B = bits[0], bits[1]\n",
    "\n",
    "  X = Val[i][0]\n",
    "  Y = Val[i][1]\n",
    "\n",
    "  if (A != B) == (X & Y):\n",
    "    Points += 1\n",
    "print(\"Won games percentage\", 100 * Points / 1000)\n",
    "print(\"Work made on\", f_h)"
   ]
  }
 ],
 "metadata": {
  "kernelspec": {
   "display_name": "cwq",
   "language": "python",
   "name": "python3"
  },
  "language_info": {
   "codemirror_mode": {
    "name": "ipython",
    "version": 3
   },
   "file_extension": ".py",
   "mimetype": "text/x-python",
   "name": "python",
   "nbconvert_exporter": "python",
   "pygments_lexer": "ipython3",
   "version": "3.13.2"
  }
 },
 "nbformat": 4,
 "nbformat_minor": 5
}
